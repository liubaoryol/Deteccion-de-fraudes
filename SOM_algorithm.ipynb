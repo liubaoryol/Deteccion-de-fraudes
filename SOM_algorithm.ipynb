{
 "cells": [
  {
   "cell_type": "code",
   "execution_count": 74,
   "metadata": {},
   "outputs": [],
   "source": [
    "import numpy as np\n",
    "import math\n",
    "import random\n",
    "import pandas as pd\n",
    "from scipy.spatial import distance\n",
    "import matplotlib.pyplot as plt\n",
    "%matplotlib inline"
   ]
  },
  {
   "cell_type": "markdown",
   "metadata": {},
   "source": [
    "# FUNCIONES"
   ]
  },
  {
   "cell_type": "code",
   "execution_count": 3,
   "metadata": {},
   "outputs": [],
   "source": [
    "#Encontrar la cantidad optima de unidades del SOM\n",
    "def mapunits(input_len):\n",
    "    heuristic_map_units = 20*input_len**0.54321\n",
    "    return heuristic_map_units"
   ]
  },
  {
   "cell_type": "code",
   "execution_count": 63,
   "metadata": {},
   "outputs": [],
   "source": [
    "#Algoritmo SOM\n",
    "\n",
    "def som(observations,map_width,map_height,epochs):\n",
    "    MAP = np.random.uniform(size=(map_height,map_width,len(observations[0])))\n",
    "    prev_MAP = np.zeros((map_height,map_width,len(observations[0])))\n",
    "\n",
    "    radius0 = max(map_width,map_height)/2\n",
    "    learning_rate0 = 0.1\n",
    "\n",
    "    coordinate_map = np.zeros([map_height,map_width,2],dtype=np.int32)\n",
    "\n",
    "    for i in range(0,map_height):\n",
    "        for j in range(0,map_width):\n",
    "            coordinate_map[i][j] = [i,j]\n",
    "\n",
    "\n",
    "    radius=radius0\n",
    "    learning_rate = learning_rate0\n",
    "    max_iterations = len(observations)+1\n",
    "    too_many_iterations = 10*max_iterations\n",
    "\n",
    "    convergence = [1]\n",
    "\n",
    "    timestep=1\n",
    "    e=0.001 #determinación de la convergencia\n",
    "    flag=0 #Cuando es igual a 1 significa que la red llego a un punto estacionario\n",
    "\n",
    "    epoch=0\n",
    "    while epoch<epochs:\n",
    "\n",
    "        shuffle = np.random.randint(len(observations), size=len(observations))\n",
    "        for i in range(len(observations)):\n",
    "\n",
    "            # Revisamos si la red ha convergido\n",
    "            J = np.linalg.norm(MAP - prev_MAP)\n",
    "\n",
    "            if  J <= e:\n",
    "                flag=1\n",
    "                break\n",
    "\n",
    "            else:\n",
    "\n",
    "                #if timestep == max_iterations and timestep != too_many_iterations:\n",
    "                #    epochs += 1\n",
    "                #    max_iterations = epochs*len(observations)\n",
    "\n",
    "                observation = observations[shuffle[i]]\n",
    "                observation_ary = np.tile(observation, (map_height, map_width, 1))\n",
    "                Eucli_MAP = np.linalg.norm(observation_ary - MAP, axis=2)\n",
    "                \n",
    "                BMU = np.unravel_index(np.argmin(Eucli_MAP, axis=None), Eucli_MAP.shape)    \n",
    "\n",
    "                prev_MAP = np.copy(MAP)\n",
    "\n",
    "                for i in range(map_height):\n",
    "                    for j in range(map_width):\n",
    "                        distance = np.linalg.norm([i - BMU[0], j - BMU[1]])\n",
    "                        if distance <= radius:\n",
    "                            #theta = math.exp(-(distance**2)/(2*(radius**2)))\n",
    "                            MAP[i][j] = MAP[i][j] + learning_rate*(observation-MAP[i][j]) #Agregar un cambio dependiente de la distancia!\n",
    "\n",
    "                learning_rate = learning_rate0*(1-(epoch/epochs))\n",
    "                #time_constant = max_iterations/math.log(radius) \n",
    "                radius = radius0*math.exp(-epoch/epochs)\n",
    "\n",
    "                timestep+=1\n",
    "\n",
    "        if J < min(convergence):\n",
    "            print('Lower error found: %s' %str(J) + ' at epoch: %s' % str(epoch))\n",
    "            print('\\tLearning rate: ' + str(learning_rate))\n",
    "            print('\\tNeighbourhood radius: ' + str(radius))\n",
    "            MAP_final = MAP\n",
    "        convergence.append(J)\n",
    "\n",
    "        \n",
    "        if flag==1:\n",
    "            break\n",
    "        epoch+=1\n",
    "    return convergence, J, timestep"
   ]
  },
  {
   "cell_type": "code",
   "execution_count": null,
   "metadata": {},
   "outputs": [],
   "source": []
  },
  {
   "cell_type": "code",
   "execution_count": 78,
   "metadata": {},
   "outputs": [
    {
     "name": "stdout",
     "output_type": "stream",
     "text": [
      "Iris Data Loaded\n",
      "Sample pattern: [6.4 2.9 4.3 1.3]\n",
      "Class of the above pattern: Iris-versicolor\n"
     ]
    }
   ],
   "source": [
    "patterns = []\n",
    "classes = []\n",
    "\n",
    "filename = 'Iris.txt'\n",
    "file = open(filename,'r')\n",
    "\n",
    "for line in file.readlines():\n",
    "    row = line.strip().split(',')\n",
    "    patterns.append(row[0:4])\n",
    "    classes.append(row[4])\n",
    "print(\"Iris Data Loaded\")\n",
    "file.close\n",
    "\n",
    "patterns = np.asarray(patterns,dtype=np.float32)\n",
    "\n",
    "sample_no = np.random.randint(0,len(patterns))\n",
    "\n",
    "print(\"Sample pattern: \" + str(patterns[int(sample_no)]))\n",
    "print(\"Class of the above pattern: \" + str(classes[int(sample_no)]))"
   ]
  },
  {
   "cell_type": "code",
   "execution_count": 65,
   "metadata": {},
   "outputs": [
    {
     "name": "stdout",
     "output_type": "stream",
     "text": [
      "Lower error found: 0.3257884721156211 at epoch: 1\n",
      "\tLearning rate: 0.0998\n",
      "\tNeighbourhood radius: 4.491008994002999\n",
      "Lower error found: 0.3183815072677504 at epoch: 24\n",
      "\tLearning rate: 0.0952\n",
      "\tNeighbourhood radius: 4.289102041848771\n",
      "Lower error found: 0.2245791926063242 at epoch: 40\n",
      "\tLearning rate: 0.09200000000000001\n",
      "\tNeighbourhood radius: 4.154023558739861\n",
      "Lower error found: 0.1795024426270464 at epoch: 74\n",
      "\tLearning rate: 0.0852\n",
      "\tNeighbourhood radius: 3.8809400172392046\n",
      "Lower error found: 0.14397885910151062 at epoch: 115\n",
      "\tLearning rate: 0.07700000000000001\n",
      "\tNeighbourhood radius: 3.575401211265003\n",
      "Lower error found: 0.13945608291408526 at epoch: 130\n",
      "\tLearning rate: 0.074\n",
      "\tNeighbourhood radius: 3.4697321361160482\n",
      "Lower error found: 0.13869736804607138 at epoch: 137\n",
      "\tLearning rate: 0.0726\n",
      "\tNeighbourhood radius: 3.4214943386739693\n",
      "Lower error found: 0.09971317741234417 at epoch: 173\n",
      "\tLearning rate: 0.0654\n",
      "\tNeighbourhood radius: 3.183806191979258\n",
      "Lower error found: 0.08607699231778787 at epoch: 199\n",
      "\tLearning rate: 0.060200000000000004\n",
      "\tNeighbourhood radius: 3.022479124479044\n",
      "Lower error found: 0.08200774130533911 at epoch: 248\n",
      "\tLearning rate: 0.0504\n",
      "\tNeighbourhood radius: 2.740327384828036\n",
      "Lower error found: 0.0643879190753282 at epoch: 257\n",
      "\tLearning rate: 0.048600000000000004\n",
      "\tNeighbourhood radius: 2.691442773282426\n",
      "Lower error found: 0.05121502662458555 at epoch: 295\n",
      "\tLearning rate: 0.04100000000000001\n",
      "\tNeighbourhood radius: 2.494472781305282\n",
      "Lower error found: 0.039185650135654684 at epoch: 357\n",
      "\tLearning rate: 0.028600000000000004\n",
      "\tNeighbourhood radius: 2.203566968635813\n",
      "Lower error found: 0.01668110817697234 at epoch: 358\n",
      "\tLearning rate: 0.028400000000000005\n",
      "\tNeighbourhood radius: 2.199164238895858\n",
      "Lower error found: 0.016579466912520303 at epoch: 377\n",
      "\tLearning rate: 0.0246\n",
      "\tNeighbourhood radius: 2.1171638719301873\n",
      "Lower error found: 0.010623520138963687 at epoch: 417\n",
      "\tLearning rate: 0.016600000000000004\n",
      "\tNeighbourhood radius: 1.954388578157978\n",
      "Lower error found: 0.007031983570315794 at epoch: 441\n",
      "\tLearning rate: 0.0118\n",
      "\tNeighbourhood radius: 1.8627937869207336\n",
      "Lower error found: 0.005931906854166131 at epoch: 461\n",
      "\tLearning rate: 0.007799999999999996\n",
      "\tNeighbourhood radius: 1.7897525977920037\n",
      "Lower error found: 0.005923303693714776 at epoch: 462\n",
      "\tLearning rate: 0.007599999999999996\n",
      "\tNeighbourhood radius: 1.786176669716471\n",
      "Lower error found: 0.002295902476530121 at epoch: 476\n",
      "\tLearning rate: 0.004800000000000005\n",
      "\tNeighbourhood radius: 1.7368574146840898\n",
      "Lower error found: 0.0008461433214709044 at epoch: 490\n",
      "\tLearning rate: 0.0020000000000000018\n",
      "\tNeighbourhood radius: 1.688899944831298\n"
     ]
    }
   ],
   "source": [
    "convergence,J,timestep=som(patterns,9,5,500)"
   ]
  },
  {
   "cell_type": "code",
   "execution_count": 66,
   "metadata": {},
   "outputs": [
    {
     "data": {
      "image/png": "[encoded data removed]",
      "text/plain": [
       "<Figure size 432x288 with 1 Axes>"
      ]
     },
     "metadata": {
      "needs_background": "light"
     },
     "output_type": "display_data"
    },
    {
     "name": "stdout",
     "output_type": "stream",
     "text": [
      "Number of timesteps: 73519\n",
      "Final error: 0.0008461433214709044\n"
     ]
    }
   ],
   "source": [
    "# Show a plot of the error at each epoch to show convergence, but this is guaranteed in SOM\n",
    "# due to the learning rate and neighbourhood decay\n",
    "plt.plot(convergence)\n",
    "plt.ylabel('error')\n",
    "plt.xlabel('epoch')\n",
    "plt.grid(True)\n",
    "plt.yscale('log')\n",
    "plt.show()\n",
    "print('Number of timesteps: ' + str(timestep))\n",
    "print('Final error: ' + str(J))"
   ]
  },
  {
   "cell_type": "code",
   "execution_count": 67,
   "metadata": {},
   "outputs": [
    {
     "ename": "NameError",
     "evalue": "name 'map_height' is not defined",
     "output_type": "error",
     "traceback": [
      "\u001b[1;31m---------------------------------------------------------------------------\u001b[0m",
      "\u001b[1;31mNameError\u001b[0m                                 Traceback (most recent call last)",
      "\u001b[1;32m<ipython-input-67-d60030eace46>\u001b[0m in \u001b[0;36m<module>\u001b[1;34m\u001b[0m\n\u001b[0;32m      4\u001b[0m \u001b[1;33m\u001b[0m\u001b[0m\n\u001b[0;32m      5\u001b[0m \u001b[0mBMU\u001b[0m \u001b[1;33m=\u001b[0m \u001b[0mnp\u001b[0m\u001b[1;33m.\u001b[0m\u001b[0mzeros\u001b[0m\u001b[1;33m(\u001b[0m\u001b[1;33m[\u001b[0m\u001b[1;36m2\u001b[0m\u001b[1;33m]\u001b[0m\u001b[1;33m,\u001b[0m\u001b[0mdtype\u001b[0m\u001b[1;33m=\u001b[0m\u001b[0mnp\u001b[0m\u001b[1;33m.\u001b[0m\u001b[0mint32\u001b[0m\u001b[1;33m)\u001b[0m\u001b[1;33m\u001b[0m\u001b[1;33m\u001b[0m\u001b[0m\n\u001b[1;32m----> 6\u001b[1;33m \u001b[0mresult_map\u001b[0m \u001b[1;33m=\u001b[0m \u001b[0mnp\u001b[0m\u001b[1;33m.\u001b[0m\u001b[0mzeros\u001b[0m\u001b[1;33m(\u001b[0m\u001b[1;33m[\u001b[0m\u001b[0mmap_height\u001b[0m\u001b[1;33m,\u001b[0m\u001b[0mmap_width\u001b[0m\u001b[1;33m,\u001b[0m\u001b[1;36m3\u001b[0m\u001b[1;33m]\u001b[0m\u001b[1;33m,\u001b[0m\u001b[0mdtype\u001b[0m\u001b[1;33m=\u001b[0m\u001b[0mnp\u001b[0m\u001b[1;33m.\u001b[0m\u001b[0mfloat32\u001b[0m\u001b[1;33m)\u001b[0m\u001b[1;33m\u001b[0m\u001b[1;33m\u001b[0m\u001b[0m\n\u001b[0m\u001b[0;32m      7\u001b[0m \u001b[1;33m\u001b[0m\u001b[0m\n\u001b[0;32m      8\u001b[0m \u001b[0mi\u001b[0m\u001b[1;33m=\u001b[0m\u001b[1;36m0\u001b[0m\u001b[1;33m\u001b[0m\u001b[1;33m\u001b[0m\u001b[0m\n",
      "\u001b[1;31mNameError\u001b[0m: name 'map_height' is not defined"
     ]
    }
   ],
   "source": [
    "from scipy.misc import toimage\n",
    "from PIL import Image\n",
    "\n",
    "\n",
    "BMU = np.zeros([2],dtype=np.int32)\n",
    "result_map = np.zeros([map_height,map_width,3],dtype=np.float32)\n",
    "\n",
    "i=0\n",
    "for pattern in patterns:\n",
    "    \n",
    "    pattern_ary = np.tile(pattern, (map_height, map_width, 1))\n",
    "    Eucli_MAP = np.linalg.norm(pattern_ary - MAP_final, axis=2)\n",
    "\n",
    "    # Get the best matching unit(BMU) which is the one with the smallest Euclidean distance\n",
    "    BMU = np.unravel_index(np.argmin(Eucli_MAP, axis=None), Eucli_MAP.shape)\n",
    "    \n",
    "    x = BMU[0]\n",
    "    y = BMU[1]\n",
    "    \n",
    "    if classes[i] == 'Iris-setosa':\n",
    "        if result_map[x][y][0] <= 0.5:\n",
    "            result_map[x][y] += np.asarray([0.5,0,0])\n",
    "    elif classes[i] == 'Iris-virginica':\n",
    "        if result_map[x][y][1] <= 0.5:\n",
    "            result_map[x][y] += np.asarray([0,0.5,0])\n",
    "    elif classes[i] == 'Iris-versicolor':\n",
    "        if result_map[x][y][2] <= 0.5:\n",
    "            result_map[x][y] += np.asarray([0,0,0.5])\n",
    "    i+=1\n",
    "result_map = np.flip(result_map,0)\n",
    "    \n",
    "#print result_map\n",
    "\n",
    "print(\"Red = Iris-Setosa\")\n",
    "print(\"Blue = Iris-Virginica\")\n",
    "print(\"Green = Iris-Versicolor\")\n",
    "\n",
    "plt.imshow(result_map, interpolation='nearest')"
   ]
  },
  {
   "cell_type": "code",
   "execution_count": null,
   "metadata": {},
   "outputs": [],
   "source": []
  }
 ],
 "metadata": {
  "kernelspec": {
   "display_name": "Python 3",
   "language": "python",
   "name": "python3"
  },
  "language_info": {
   "codemirror_mode": {
    "name": "ipython",
    "version": 3
   },
   "file_extension": ".py",
   "mimetype": "text/x-python",
   "name": "python",
   "nbconvert_exporter": "python",
   "pygments_lexer": "ipython3",
   "version": "3.6.8"
  }
 },
 "nbformat": 4,
 "nbformat_minor": 2
}
