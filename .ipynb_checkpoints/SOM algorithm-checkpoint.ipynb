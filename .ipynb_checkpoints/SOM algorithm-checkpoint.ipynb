{
 "cells": [
  {
   "cell_type": "code",
   "execution_count": 1,
   "metadata": {},
   "outputs": [],
   "source": [
    "import numpy as np\n",
    "import math\n",
    "import random\n",
    "from scipy.spatial import distance\n",
    "import matplotlib.pyplot as plt\n",
    "%matplotlib inline"
   ]
  },
  {
   "cell_type": "markdown",
   "metadata": {},
   "source": [
    "# FUNCIONES"
   ]
  },
  {
   "cell_type": "code",
   "execution_count": null,
   "metadata": {},
   "outputs": [],
   "source": [
    "#Encontrar la cantidad optima de unidades del SOM\n",
    "def mapunits(input_len):\n",
    "    heuristic_map_units = 20*input_len**0.54321\n",
    "    return heuristic_map_units"
   ]
  },
  {
   "cell_type": "code",
   "execution_count": null,
   "metadata": {},
   "outputs": [],
   "source": [
    "#Algoritmo SOM\n",
    "input_dimensions = 4\n",
    "\n",
    "epoch = 500\n",
    "map_width = 9\n",
    "map_height = 5\n",
    "MAP = np.random.uniform(size=(map_height,map_width,input_dimensions))\n",
    "prev_MAP = np.zeros((map_height,map_width,input_dimensions))\n",
    "\n",
    "radius0 = max(map_width,map_height)/2\n",
    "learning_rate0 = 0.1\n",
    "\n",
    "coordinates_of_map = np.zeros([map_height,map_width,2],dtype=np.int32)\n",
    "\n",
    "for i in range(0,map_height):\n",
    "    for j in range(0,map_width):\n",
    "        coordinate_map[i][j] = [i,j]\n",
    "\n",
    "\n",
    "radius=radius0\n",
    "learning_rate = learning_rate0\n",
    "max_iterations = len(patterns)+1\n",
    "too_many_iterations = 10*max_iterations\n",
    "\n",
    "convergence = [1]\n",
    "\n",
    "timestep=1\n",
    "e=0.001 #determinación de la convergencia\n",
    "flag=0#Cuando es igual a 1 significa que la red llego a un punto estacionario\n",
    "\n",
    "epoch=0\n",
    "while epoch<epochs:\n",
    "    \n",
    "    shuffle = np.random.randint(len(patterns), size=len(patterns))\n",
    "    for i in range(len(patterns)):\n",
    "        \n",
    "        # Revisamos si la red ha convergido\n",
    "        J = np.linalg.norm(MAP - prev_MAP)\n",
    "\n",
    "        if  J <= e:\n",
    "            flag=1\n",
    "            break\n",
    "            \n",
    "        else:\n",
    "            \n",
    "            #if timestep == max_iterations and timestep != too_many_iterations:\n",
    "            #    epochs += 1\n",
    "            #    max_iterations = epochs*len(patterns)\n",
    "            \n",
    "            pattern = patterns[shuffle[i]]\n",
    "            pattern_ary = np.tile(pattern, (map_height, map_width, 1))\n",
    "            Eucli_MAP = np.linalg.norm(pattern_ary - MAP, axis=2)\n",
    "            \n",
    "            BMU = np.unravel_index(np.argmin(Eucli_MAP, axis=None), Eucli_MAP.shape)    \n",
    "            \n",
    "            prev_MAP = np.copy(MAP)\n",
    "             \n",
    "            for i in range(map_height):\n",
    "                for j in range(map_width):\n",
    "                    distance = np.linalg.norm([i - BMU[0], j - BMU[1]])\n",
    "                    if distance <= radius:\n",
    "                        #theta = math.exp(-(distance**2)/(2*(radius**2)))\n",
    "                        MAP[i][j] = MAP[i][j] + learning_rate*(pattern-MAP[i][j]) #Agregar un cambio dependiente de la distancia!\n",
    "            \n",
    "            learning_rate = learning_rate0*(1-(epoch/epochs))\n",
    "            #time_constant = max_iterations/math.log(radius) \n",
    "            radius = radius0*math.exp(-epoch/epochs)\n",
    "            \n",
    "            timestep+=1\n",
    "    \n",
    "    if J < min(convergence):\n",
    "        print('Lower error found: %s' %str(J) + ' at epoch: %s' % str(epoch))\n",
    "        print('\\tLearning rate: ' + str(learning_rate))\n",
    "        print('\\tNeighbourhood radius: ' + str(radius))\n",
    "        MAP_final = MAP\n",
    "    convergence.append(J)\n",
    "    \n",
    "    if flag==1:\n",
    "        break\n",
    "    epoch+=1"
   ]
  }
 ],
 "metadata": {
  "kernelspec": {
   "display_name": "Python 3",
   "language": "python",
   "name": "python3"
  },
  "language_info": {
   "codemirror_mode": {
    "name": "ipython",
    "version": 3
   },
   "file_extension": ".py",
   "mimetype": "text/x-python",
   "name": "python",
   "nbconvert_exporter": "python",
   "pygments_lexer": "ipython3",
   "version": "3.6.8"
  }
 },
 "nbformat": 4,
 "nbformat_minor": 2
}
